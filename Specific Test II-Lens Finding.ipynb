{
 "cells": [
  {
   "cell_type": "code",
   "execution_count": 6,
   "id": "36a046d3-a670-440e-949e-b6f0d8197cb3",
   "metadata": {},
   "outputs": [
    {
     "name": "stdout",
     "output_type": "stream",
     "text": [
      "Using device: cpu\n"
     ]
    }
   ],
   "source": [
    "import os\n",
    "import numpy as np\n",
    "import torch\n",
    "import torch.nn as nn\n",
    "import torch.nn.functional as F\n",
    "import torch.optim as optim\n",
    "from torch.utils.data import Dataset, DataLoader\n",
    "from sklearn.metrics import roc_auc_score, roc_curve\n",
    "import matplotlib.pyplot as plt\n",
    "\n",
    "# Check if CUDA is available\n",
    "device = torch.device(\"cuda\" if torch.cuda.is_available() else \"cpu\")\n",
    "print(\"Using device:\", device)\n"
   ]
  },
  {
   "cell_type": "code",
   "execution_count": 7,
   "id": "7eadc5bb-86a0-49d1-b1ce-1bbcf8344ed9",
   "metadata": {},
   "outputs": [],
   "source": [
    "class LensDataset(Dataset):\n",
    "    def __init__(self, lens_dir, nonlens_dir, transform=None):\n",
    "        \"\"\"\n",
    "        Args:\n",
    "            lens_dir (str): Directory with lens .npy files (label 1).\n",
    "            nonlens_dir (str): Directory with non-lens .npy files (label 0).\n",
    "            transform (callable, optional): Optional transform to be applied on a sample.\n",
    "        \"\"\"\n",
    "        self.samples = []\n",
    "        self.labels = []\n",
    "        self.transform = transform\n",
    "\n",
    "        # Load lens images (label 1)\n",
    "        for fname in os.listdir(lens_dir):\n",
    "            if fname.endswith('.npy'):\n",
    "                self.samples.append(os.path.join(lens_dir, fname))\n",
    "                self.labels.append(1)\n",
    "                \n",
    "        # Load non-lens images (label 0)\n",
    "        for fname in os.listdir(nonlens_dir):\n",
    "            if fname.endswith('.npy'):\n",
    "                self.samples.append(os.path.join(nonlens_dir, fname))\n",
    "                self.labels.append(0)\n",
    "\n",
    "    def __len__(self):\n",
    "        return len(self.samples)\n",
    "\n",
    "    def __getitem__(self, idx):\n",
    "        file_path = self.samples[idx]\n",
    "        label = self.labels[idx]\n",
    "        # Load the .npy file (expected shape: (3, 64, 64))\n",
    "        arr = np.load(file_path)\n",
    "        x = torch.from_numpy(arr).float()  # Convert to float tensor\n",
    "        if self.transform:\n",
    "            x = self.transform(x)\n",
    "        return x, label\n"
   ]
  },
  {
   "cell_type": "code",
   "execution_count": 10,
   "id": "c65b9672-17b7-41fc-a843-38b6af57af51",
   "metadata": {},
   "outputs": [
    {
     "name": "stdout",
     "output_type": "stream",
     "text": [
      "Train lenses: 1730 Train non-lenses: 28675\n",
      "Positive class weight: 16.575143814086914\n"
     ]
    }
   ],
   "source": [
    "# Update these paths to your actual dataset directories\n",
    "train_lenses_dir = \"/Users/EndUser/Downloads/lens-finding-test/train_lenses\"\n",
    "train_nonlenses_dir = \"/Users/EndUser/Downloads/lens-finding-test/train_nonlenses\"\n",
    "test_lenses_dir = \"/Users/EndUser/Downloads/lens-finding-test/test_lenses\"\n",
    "test_nonlenses_dir = \"/Users/EndUser/Downloads/lens-finding-test/test_nonlenses\"\n",
    "\n",
    "# Create dataset objects\n",
    "train_dataset = LensDataset(train_lenses_dir, train_nonlenses_dir)\n",
    "test_dataset = LensDataset(test_lenses_dir, test_nonlenses_dir)\n",
    "\n",
    "# Compute the number of lens and non-lens samples in the training set for weighting\n",
    "num_lenses = len(os.listdir(train_lenses_dir))\n",
    "num_nonlenses = len(os.listdir(train_nonlenses_dir))\n",
    "print(\"Train lenses:\", num_lenses, \"Train non-lenses:\", num_nonlenses)\n",
    "\n",
    "# Calculate pos_weight: ratio of non-lens to lens samples\n",
    "pos_weight = torch.tensor([num_nonlenses / num_lenses], dtype=torch.float).to(device)\n",
    "print(\"Positive class weight:\", pos_weight.item())\n",
    "\n",
    "# Create DataLoaders\n",
    "batch_size = 32\n",
    "train_loader = DataLoader(train_dataset, batch_size=batch_size, shuffle=True)\n",
    "test_loader = DataLoader(test_dataset, batch_size=batch_size, shuffle=False)\n"
   ]
  },
  {
   "cell_type": "code",
   "execution_count": 11,
   "id": "f818039f-0328-4ba9-8d93-5c3e620370cd",
   "metadata": {},
   "outputs": [
    {
     "name": "stdout",
     "output_type": "stream",
     "text": [
      "LensClassifier(\n",
      "  (conv1): Conv2d(3, 16, kernel_size=(3, 3), stride=(1, 1), padding=(1, 1))\n",
      "  (conv2): Conv2d(16, 32, kernel_size=(3, 3), stride=(1, 1), padding=(1, 1))\n",
      "  (conv3): Conv2d(32, 64, kernel_size=(3, 3), stride=(1, 1), padding=(1, 1))\n",
      "  (pool): MaxPool2d(kernel_size=2, stride=2, padding=0, dilation=1, ceil_mode=False)\n",
      "  (fc): Linear(in_features=4096, out_features=1, bias=True)\n",
      ")\n"
     ]
    }
   ],
   "source": [
    "class LensClassifier(nn.Module):\n",
    "    def __init__(self):\n",
    "        super(LensClassifier, self).__init__()\n",
    "        self.conv1 = nn.Conv2d(3, 16, kernel_size=3, padding=1)\n",
    "        self.conv2 = nn.Conv2d(16, 32, kernel_size=3, padding=1)\n",
    "        self.conv3 = nn.Conv2d(32, 64, kernel_size=3, padding=1)\n",
    "        self.pool = nn.MaxPool2d(2, 2)\n",
    "        # For input 64x64, three pooling layers reduce spatial dims to 8x8\n",
    "        self.fc = nn.Linear(64 * 8 * 8, 1)  # Output a single logit\n",
    "\n",
    "    def forward(self, x):\n",
    "        x = self.pool(F.relu(self.conv1(x)))  # (3,64,64) -> (16,32,32)\n",
    "        x = self.pool(F.relu(self.conv2(x)))  # (16,32,32) -> (32,16,16)\n",
    "        x = self.pool(F.relu(self.conv3(x)))  # (32,16,16) -> (64,8,8)\n",
    "        x = x.view(x.size(0), -1)             # Flatten\n",
    "        x = self.fc(x)\n",
    "        return x  # Logits; apply sigmoid later when needed\n",
    "\n",
    "# Instantiate and move the model to the device\n",
    "model = LensClassifier().to(device)\n",
    "print(model)\n"
   ]
  },
  {
   "cell_type": "code",
   "execution_count": 12,
   "id": "64147f3d-5f86-4cfb-bc73-b980f65b0035",
   "metadata": {},
   "outputs": [],
   "source": [
    "# Using BCEWithLogitsLoss with pos_weight to handle class imbalance\n",
    "criterion = nn.BCEWithLogitsLoss(pos_weight=pos_weight)\n",
    "optimizer = optim.Adam(model.parameters(), lr=1e-3)\n"
   ]
  },
  {
   "cell_type": "code",
   "execution_count": 13,
   "id": "c7477988-b561-46a7-a77f-b841b2578e29",
   "metadata": {},
   "outputs": [
    {
     "name": "stdout",
     "output_type": "stream",
     "text": [
      "Epoch [1/10], Loss: 0.7171\n",
      "Epoch [2/10], Loss: 0.5407\n",
      "Epoch [3/10], Loss: 0.4811\n",
      "Epoch [4/10], Loss: 0.4646\n",
      "Epoch [5/10], Loss: 0.4388\n",
      "Epoch [6/10], Loss: 0.3895\n",
      "Epoch [7/10], Loss: 0.3590\n",
      "Epoch [8/10], Loss: 0.3306\n",
      "Epoch [9/10], Loss: 0.3171\n",
      "Epoch [10/10], Loss: 0.3003\n"
     ]
    }
   ],
   "source": [
    "num_epochs = 10  # You can adjust the number of epochs\n",
    "\n",
    "model.train()\n",
    "for epoch in range(num_epochs):\n",
    "    running_loss = 0.0\n",
    "    for images, labels in train_loader:\n",
    "        images = images.to(device)\n",
    "        labels = labels.float().unsqueeze(1).to(device)  # Shape: (batch_size, 1)\n",
    "        \n",
    "        # Forward pass\n",
    "        logits = model(images)\n",
    "        loss = criterion(logits, labels)\n",
    "        \n",
    "        # Backward and optimize\n",
    "        optimizer.zero_grad()\n",
    "        loss.backward()\n",
    "        optimizer.step()\n",
    "        \n",
    "        running_loss += loss.item()\n",
    "        \n",
    "    epoch_loss = running_loss / len(train_loader)\n",
    "    print(f\"Epoch [{epoch+1}/{num_epochs}], Loss: {epoch_loss:.4f}\")\n"
   ]
  },
  {
   "cell_type": "code",
   "execution_count": 14,
   "id": "d6e75222-7bfe-4934-89d1-52b99d5e43e0",
   "metadata": {},
   "outputs": [
    {
     "name": "stdout",
     "output_type": "stream",
     "text": [
      "Test AUC: 0.96518052837251\n"
     ]
    }
   ],
   "source": [
    "model.eval()\n",
    "all_labels = []\n",
    "all_probs = []\n",
    "\n",
    "with torch.no_grad():\n",
    "    for images, labels in test_loader:\n",
    "        images = images.to(device)\n",
    "        logits = model(images)\n",
    "        # Convert logits to probabilities using the sigmoid function\n",
    "        probs = torch.sigmoid(logits).squeeze().cpu().numpy()\n",
    "        all_probs.extend(probs)\n",
    "        all_labels.extend(labels.numpy())\n",
    "\n",
    "# Compute AUC\n",
    "auc_score = roc_auc_score(all_labels, all_probs)\n",
    "print(\"Test AUC:\", auc_score)\n"
   ]
  },
  {
   "cell_type": "code",
   "execution_count": 15,
   "id": "851653d1-d175-49f4-b2e3-486aaf615a27",
   "metadata": {},
   "outputs": [
    {
     "data": {
      "image/png": "[encoded data removed]",
      "text/plain": [
       "<Figure size 800x600 with 1 Axes>"
      ]
     },
     "metadata": {},
     "output_type": "display_data"
    }
   ],
   "source": [
    "fpr, tpr, thresholds = roc_curve(all_labels, all_probs)\n",
    "plt.figure(figsize=(8,6))\n",
    "plt.plot(fpr, tpr, label=f\"AUC = {auc_score:.3f}\")\n",
    "plt.xlabel(\"False Positive Rate\")\n",
    "plt.ylabel(\"True Positive Rate\")\n",
    "plt.title(\"ROC Curve\")\n",
    "plt.legend()\n",
    "plt.grid(True)\n",
    "plt.show()\n"
   ]
  },
  {
   "cell_type": "code",
   "execution_count": null,
   "id": "259b74f1-3e47-4f30-9c70-d98e430f0821",
   "metadata": {},
   "outputs": [],
   "source": []
  }
 ],
 "metadata": {
  "kernelspec": {
   "display_name": "Python 3 (ipykernel)",
   "language": "python",
   "name": "python3"
  },
  "language_info": {
   "codemirror_mode": {
    "name": "ipython",
    "version": 3
   },
   "file_extension": ".py",
   "mimetype": "text/x-python",
   "name": "python",
   "nbconvert_exporter": "python",
   "pygments_lexer": "ipython3",
   "version": "3.12.2"
  }
 },
 "nbformat": 4,
 "nbformat_minor": 5
}
