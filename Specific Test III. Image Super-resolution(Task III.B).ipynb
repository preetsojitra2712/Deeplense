{
 "cells": [
  {
   "cell_type": "code",
   "execution_count": 1,
   "id": "aaea0ba8-569d-4c3e-acb2-0ddb7cc731af",
   "metadata": {},
   "outputs": [
    {
     "name": "stdout",
     "output_type": "stream",
     "text": [
      "Using device: cpu\n"
     ]
    }
   ],
   "source": [
    "import os\n",
    "import numpy as np\n",
    "import torch\n",
    "import torch.nn as nn\n",
    "import torch.nn.functional as F\n",
    "import torch.optim as optim\n",
    "from torch.utils.data import Dataset, DataLoader\n",
    "from sklearn.model_selection import train_test_split\n",
    "from math import log10\n",
    "\n",
    "# For reproducibility\n",
    "SEED = 42\n",
    "np.random.seed(SEED)\n",
    "torch.manual_seed(SEED)\n",
    "if torch.cuda.is_available():\n",
    "    torch.cuda.manual_seed(SEED)\n",
    "\n",
    "device = torch.device(\"cuda\" if torch.cuda.is_available() else \"cpu\")\n",
    "print(\"Using device:\", device)\n"
   ]
  },
  {
   "cell_type": "code",
   "execution_count": 2,
   "id": "8323b79a-e470-4cd2-9fbb-2110d0cccb5b",
   "metadata": {},
   "outputs": [],
   "source": [
    "class StrongLensingDataset(Dataset):\n",
    "    def __init__(self, lr_files, hr_files):\n",
    "        self.lr_files = lr_files\n",
    "        self.hr_files = hr_files\n",
    "        \n",
    "    def __len__(self):\n",
    "        return len(self.lr_files)\n",
    "    \n",
    "    def __getitem__(self, idx):\n",
    "        lr_path = self.lr_files[idx]\n",
    "        hr_path = self.hr_files[idx]\n",
    "        \n",
    "        # Load images (expected shape: (H, W) or (C, H, W))\n",
    "        lr_img = np.load(lr_path)\n",
    "        hr_img = np.load(hr_path)\n",
    "        \n",
    "        # If single-channel images, add channel dimension (result: (1, H, W))\n",
    "        if lr_img.ndim == 2:\n",
    "            lr_img = np.expand_dims(lr_img, axis=0)\n",
    "        if hr_img.ndim == 2:\n",
    "            hr_img = np.expand_dims(hr_img, axis=0)\n",
    "        \n",
    "        # Convert to float32 and normalize to [0, 1]\n",
    "        lr_img = lr_img.astype(np.float32) / (lr_img.max() if lr_img.max() != 0 else 1)\n",
    "        hr_img = hr_img.astype(np.float32) / (hr_img.max() if hr_img.max() != 0 else 1)\n",
    "        \n",
    "        # Convert to torch tensors\n",
    "        lr_tensor = torch.from_numpy(lr_img)\n",
    "        hr_tensor = torch.from_numpy(hr_img)\n",
    "        \n",
    "        return lr_tensor, hr_tensor\n"
   ]
  },
  {
   "cell_type": "code",
   "execution_count": 4,
   "id": "d2dba362-40a4-40e4-b918-d804347d60e5",
   "metadata": {},
   "outputs": [
    {
     "name": "stdout",
     "output_type": "stream",
     "text": [
      "Training samples: 270, Validation samples: 30\n"
     ]
    }
   ],
   "source": [
    "# Update these paths to your dataset directories.\n",
    "lr_folder = \"/Users/EndUser/Downloads/dataset-3/LR\"  # Adjust folder name as needed\n",
    "hr_folder = \"/Users/EndUser/Downloads/dataset-3/HR\"\n",
    "\n",
    "# List and sort .npy files in each folder\n",
    "lr_files = sorted([os.path.join(lr_folder, f) for f in os.listdir(lr_folder) if f.endswith('.npy')])\n",
    "hr_files = sorted([os.path.join(hr_folder, f) for f in os.listdir(hr_folder) if f.endswith('.npy')])\n",
    "\n",
    "assert len(lr_files) == len(hr_files), \"Mismatch: Number of LR and HR files do not match.\"\n",
    "\n",
    "# Split into training and validation sets (90:10 split)\n",
    "train_lr, val_lr, train_hr, val_hr = train_test_split(lr_files, hr_files, test_size=0.1, random_state=SEED)\n",
    "\n",
    "# Create Dataset objects\n",
    "train_dataset = StrongLensingDataset(train_lr, train_hr)\n",
    "val_dataset   = StrongLensingDataset(val_lr, val_hr)\n",
    "\n",
    "# Create DataLoaders\n",
    "batch_size = 8\n",
    "train_loader = DataLoader(train_dataset, batch_size=batch_size, shuffle=True)\n",
    "val_loader   = DataLoader(val_dataset, batch_size=batch_size, shuffle=False)\n",
    "\n",
    "print(f\"Training samples: {len(train_dataset)}, Validation samples: {len(val_dataset)}\")\n"
   ]
  },
  {
   "cell_type": "code",
   "execution_count": 5,
   "id": "6f06cedd-53b9-4a18-8e66-e808226c0a62",
   "metadata": {},
   "outputs": [],
   "source": [
    "class SRCNN(nn.Module):\n",
    "    def __init__(self, num_channels=1):\n",
    "        super(SRCNN, self).__init__()\n",
    "        # Three convolutional layers as in the SRCNN paper\n",
    "        self.conv1 = nn.Conv2d(num_channels, 64, kernel_size=9, padding=4)\n",
    "        self.conv2 = nn.Conv2d(64, 32, kernel_size=1, padding=0)\n",
    "        self.conv3 = nn.Conv2d(32, num_channels, kernel_size=5, padding=2)\n",
    "        self.relu = nn.ReLU(inplace=True)\n",
    "        \n",
    "    def forward(self, x):\n",
    "        # x is expected to be [B, 1, 128, 128]\n",
    "        x = self.relu(self.conv1(x))\n",
    "        x = self.relu(self.conv2(x))\n",
    "        x = self.conv3(x)\n",
    "        # Output: [B, 1, 128, 128]\n",
    "        return x\n",
    "\n",
    "model = SRCNN(num_channels=1).to(device)\n"
   ]
  },
  {
   "cell_type": "code",
   "execution_count": 6,
   "id": "96e1bea5-785d-4a1f-8b7e-9e2e9d5ab2f3",
   "metadata": {},
   "outputs": [],
   "source": [
    "criterion = nn.MSELoss()\n",
    "optimizer = optim.Adam(model.parameters(), lr=1e-4)\n",
    "num_epochs = 10\n"
   ]
  },
  {
   "cell_type": "code",
   "execution_count": 7,
   "id": "e9f2ba9f-84e4-4cfd-b508-f3eb8f143618",
   "metadata": {},
   "outputs": [
    {
     "name": "stdout",
     "output_type": "stream",
     "text": [
      "Epoch [1/10], Train Loss: 0.003020\n",
      "Epoch [2/10], Train Loss: 0.001764\n",
      "Epoch [3/10], Train Loss: 0.001602\n",
      "Epoch [4/10], Train Loss: 0.001562\n",
      "Epoch [5/10], Train Loss: 0.001519\n",
      "Epoch [6/10], Train Loss: 0.001498\n",
      "Epoch [7/10], Train Loss: 0.001483\n",
      "Epoch [8/10], Train Loss: 0.001467\n",
      "Epoch [9/10], Train Loss: 0.001437\n",
      "Epoch [10/10], Train Loss: 0.001434\n"
     ]
    }
   ],
   "source": [
    "for epoch in range(num_epochs):\n",
    "    model.train()\n",
    "    running_loss = 0.0\n",
    "    for lr_imgs, hr_imgs in train_loader:\n",
    "        # lr_imgs: [B, 1, 64, 64]; hr_imgs: [B, 1, 128, 128]\n",
    "        lr_imgs = lr_imgs.to(device)\n",
    "        hr_imgs = hr_imgs.to(device)\n",
    "        \n",
    "        # Upsample LR images to 128×128 using bicubic interpolation\n",
    "        lr_imgs_upsampled = F.interpolate(lr_imgs, size=(128, 128), mode='bicubic', align_corners=False)\n",
    "        # Now lr_imgs_upsampled: [B, 1, 128, 128]\n",
    "        \n",
    "        optimizer.zero_grad()\n",
    "        sr_imgs = model(lr_imgs_upsampled)  # Output: [B, 1, 128, 128]\n",
    "        \n",
    "        loss = criterion(sr_imgs, hr_imgs)\n",
    "        loss.backward()\n",
    "        optimizer.step()\n",
    "        \n",
    "        running_loss += loss.item() * lr_imgs.size(0)\n",
    "    \n",
    "    epoch_loss = running_loss / len(train_dataset)\n",
    "    print(f\"Epoch [{epoch+1}/{num_epochs}], Train Loss: {epoch_loss:.6f}\")\n"
   ]
  },
  {
   "cell_type": "code",
   "execution_count": 8,
   "id": "7d0ebe18-3b5e-427f-a90d-36d671f7af7d",
   "metadata": {},
   "outputs": [
    {
     "name": "stdout",
     "output_type": "stream",
     "text": [
      "Validation Loss: 0.000878\n"
     ]
    }
   ],
   "source": [
    "model.eval()\n",
    "val_loss = 0.0\n",
    "\n",
    "with torch.no_grad():\n",
    "    for lr_imgs, hr_imgs in val_loader:\n",
    "        lr_imgs = lr_imgs.to(device)\n",
    "        hr_imgs = hr_imgs.to(device)\n",
    "        \n",
    "        # Upsample LR images to 128×128\n",
    "        lr_imgs_upsampled = F.interpolate(lr_imgs, size=(128, 128), mode='bicubic', align_corners=False)\n",
    "        sr_imgs = model(lr_imgs_upsampled)\n",
    "        \n",
    "        loss = criterion(sr_imgs, hr_imgs)\n",
    "        val_loss += loss.item() * lr_imgs.size(0)\n",
    "\n",
    "val_loss /= len(val_dataset)\n",
    "print(f\"Validation Loss: {val_loss:.6f}\")\n"
   ]
  },
  {
   "cell_type": "code",
   "execution_count": null,
   "id": "e9b6d5f6-04a4-4643-8fff-600b43029c56",
   "metadata": {},
   "outputs": [],
   "source": []
  }
 ],
 "metadata": {
  "kernelspec": {
   "display_name": "Python 3 (ipykernel)",
   "language": "python",
   "name": "python3"
  },
  "language_info": {
   "codemirror_mode": {
    "name": "ipython",
    "version": 3
   },
   "file_extension": ".py",
   "mimetype": "text/x-python",
   "name": "python",
   "nbconvert_exporter": "python",
   "pygments_lexer": "ipython3",
   "version": "3.12.2"
  }
 },
 "nbformat": 4,
 "nbformat_minor": 5
}
